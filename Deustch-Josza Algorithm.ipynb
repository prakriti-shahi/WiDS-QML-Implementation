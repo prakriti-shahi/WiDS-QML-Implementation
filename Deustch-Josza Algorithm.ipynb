{
 "cells": [
  {
   "cell_type": "code",
   "execution_count": 9,
   "id": "bfaae2ab",
   "metadata": {},
   "outputs": [],
   "source": [
    "import numpy as np\n",
    "from qiskit import Aer\n",
    "from qiskit import QuantumCircuit as qc, assemble\n",
    "from qiskit.visualization import plot_histogram"
   ]
  },
  {
   "cell_type": "code",
   "execution_count": 10,
   "id": "f5357b7c",
   "metadata": {},
   "outputs": [
    {
     "data": {
      "text/html": [
       "<pre style=\"word-wrap: normal;white-space: pre;background: #fff0;line-height: 1.1;font-family: &quot;Courier New&quot;,Courier,monospace\">     \n",
       "q_0: \n",
       "     \n",
       "q_1: \n",
       "     \n",
       "q_2: \n",
       "     \n",
       "q_3: \n",
       "     \n",
       "q_4: \n",
       "     </pre>"
      ],
      "text/plain": [
       "     \n",
       "q_0: \n",
       "     \n",
       "q_1: \n",
       "     \n",
       "q_2: \n",
       "     \n",
       "q_3: \n",
       "     \n",
       "q_4: \n",
       "     "
      ]
     },
     "execution_count": 10,
     "metadata": {},
     "output_type": "execute_result"
    }
   ],
   "source": [
    "n = 4\n",
    "\n",
    "co = qc(n+1) #initializing the constant oracle\n",
    "\n",
    "op = np.random.randint(2) #output\n",
    "if op == 1:\n",
    "    co.x(n)\n",
    "\n",
    "co.draw()"
   ]
  },
  {
   "cell_type": "code",
   "execution_count": 11,
   "id": "0b63856d",
   "metadata": {},
   "outputs": [
    {
     "data": {
      "text/html": [
       "<pre style=\"word-wrap: normal;white-space: pre;background: #fff0;line-height: 1.1;font-family: &quot;Courier New&quot;,Courier,monospace\">     ┌───┐ ░                      ░ ┌───┐\n",
       "q_0: ┤ X ├─░───■──────────────────░─┤ X ├\n",
       "     └───┘ ░   │                  ░ └───┘\n",
       "q_1: ──────░───┼────■─────────────░──────\n",
       "     ┌───┐ ░   │    │             ░ ┌───┐\n",
       "q_2: ┤ X ├─░───┼────┼────■────────░─┤ X ├\n",
       "     └───┘ ░   │    │    │        ░ └───┘\n",
       "q_3: ──────░───┼────┼────┼────■───░──────\n",
       "           ░ ┌─┴─┐┌─┴─┐┌─┴─┐┌─┴─┐ ░      \n",
       "q_4: ──────░─┤ X ├┤ X ├┤ X ├┤ X ├─░──────\n",
       "           ░ └───┘└───┘└───┘└───┘ ░      </pre>"
      ],
      "text/plain": [
       "     ┌───┐ ░                      ░ ┌───┐\n",
       "q_0: ┤ X ├─░───■──────────────────░─┤ X ├\n",
       "     └───┘ ░   │                  ░ └───┘\n",
       "q_1: ──────░───┼────■─────────────░──────\n",
       "     ┌───┐ ░   │    │             ░ ┌───┐\n",
       "q_2: ┤ X ├─░───┼────┼────■────────░─┤ X ├\n",
       "     └───┘ ░   │    │    │        ░ └───┘\n",
       "q_3: ──────░───┼────┼────┼────■───░──────\n",
       "           ░ ┌─┴─┐┌─┴─┐┌─┴─┐┌─┴─┐ ░      \n",
       "q_4: ──────░─┤ X ├┤ X ├┤ X ├┤ X ├─░──────\n",
       "           ░ └───┘└───┘└───┘└───┘ ░      "
      ]
     },
     "execution_count": 11,
     "metadata": {},
     "output_type": "execute_result"
    }
   ],
   "source": [
    "bo = qc(n+1) #initializing the balanced oracle\n",
    "b_str = \"1010\"\n",
    "\n",
    "for qubit in range(len(b_str)):\n",
    "    if b_str[qubit] == '1':\n",
    "        bo.x(qubit)  #placing X-gates\n",
    "\n",
    "bo.barrier()\n",
    "\n",
    "for qubit in range(n):\n",
    "    bo.cx(qubit, n)  #placing C-NOT gates\n",
    "\n",
    "bo.barrier()\n",
    "\n",
    "for qubit in range(len(b_str)):\n",
    "    if b_str[qubit] == '1':\n",
    "        bo.x(qubit)  #placing X-gates\n",
    "\n",
    "bo.draw()"
   ]
  },
  {
   "cell_type": "code",
   "execution_count": 12,
   "id": "010ec4a2",
   "metadata": {},
   "outputs": [
    {
     "name": "stderr",
     "output_type": "stream",
     "text": [
      "C:\\Users\\prakr\\AppData\\Local\\Temp\\ipykernel_32920\\1424723753.py:9: DeprecationWarning: The QuantumCircuit.__iadd__() method is being deprecated. Use the compose() (potentially with the inplace=True argument) and tensor() methods which are more flexible w.r.t circuit register compatibility.\n",
      "  dj_circuit += bo #adding balanced oracle\n"
     ]
    },
    {
     "data": {
      "text/html": [
       "<pre style=\"word-wrap: normal;white-space: pre;background: #fff0;line-height: 1.1;font-family: &quot;Courier New&quot;,Courier,monospace\">     ┌───┐┌───┐ ░                      ░ ┌───┐┌───┐ ░ ┌─┐         \n",
       "q_0: ┤ H ├┤ X ├─░───■──────────────────░─┤ X ├┤ H ├─░─┤M├─────────\n",
       "     ├───┤└───┘ ░   │                  ░ ├───┤└───┘ ░ └╥┘┌─┐      \n",
       "q_1: ┤ H ├──────░───┼────■─────────────░─┤ H ├──────░──╫─┤M├──────\n",
       "     ├───┤┌───┐ ░   │    │             ░ ├───┤┌───┐ ░  ║ └╥┘┌─┐   \n",
       "q_2: ┤ H ├┤ X ├─░───┼────┼────■────────░─┤ X ├┤ H ├─░──╫──╫─┤M├───\n",
       "     ├───┤└───┘ ░   │    │    │        ░ ├───┤└───┘ ░  ║  ║ └╥┘┌─┐\n",
       "q_3: ┤ H ├──────░───┼────┼────┼────■───░─┤ H ├──────░──╫──╫──╫─┤M├\n",
       "     ├───┤┌───┐ ░ ┌─┴─┐┌─┴─┐┌─┴─┐┌─┴─┐ ░ └───┘      ░  ║  ║  ║ └╥┘\n",
       "q_4: ┤ X ├┤ H ├─░─┤ X ├┤ X ├┤ X ├┤ X ├─░────────────░──╫──╫──╫──╫─\n",
       "     └───┘└───┘ ░ └───┘└───┘└───┘└───┘ ░            ░  ║  ║  ║  ║ \n",
       "c: 4/══════════════════════════════════════════════════╩══╩══╩══╩═\n",
       "                                                       0  1  2  3 </pre>"
      ],
      "text/plain": [
       "     ┌───┐┌───┐ ░                      ░ ┌───┐┌───┐ ░ ┌─┐         \n",
       "q_0: ┤ H ├┤ X ├─░───■──────────────────░─┤ X ├┤ H ├─░─┤M├─────────\n",
       "     ├───┤└───┘ ░   │                  ░ ├───┤└───┘ ░ └╥┘┌─┐      \n",
       "q_1: ┤ H ├──────░───┼────■─────────────░─┤ H ├──────░──╫─┤M├──────\n",
       "     ├───┤┌───┐ ░   │    │             ░ ├───┤┌───┐ ░  ║ └╥┘┌─┐   \n",
       "q_2: ┤ H ├┤ X ├─░───┼────┼────■────────░─┤ X ├┤ H ├─░──╫──╫─┤M├───\n",
       "     ├───┤└───┘ ░   │    │    │        ░ ├───┤└───┘ ░  ║  ║ └╥┘┌─┐\n",
       "q_3: ┤ H ├──────░───┼────┼────┼────■───░─┤ H ├──────░──╫──╫──╫─┤M├\n",
       "     ├───┤┌───┐ ░ ┌─┴─┐┌─┴─┐┌─┴─┐┌─┴─┐ ░ └───┘      ░  ║  ║  ║ └╥┘\n",
       "q_4: ┤ X ├┤ H ├─░─┤ X ├┤ X ├┤ X ├┤ X ├─░────────────░──╫──╫──╫──╫─\n",
       "     └───┘└───┘ ░ └───┘└───┘└───┘└───┘ ░            ░  ║  ║  ║  ║ \n",
       "c: 4/══════════════════════════════════════════════════╩══╩══╩══╩═\n",
       "                                                       0  1  2  3 "
      ]
     },
     "execution_count": 12,
     "metadata": {},
     "output_type": "execute_result"
    }
   ],
   "source": [
    "dj_circuit = qc(n+1, n)\n",
    "\n",
    "for qubit in range(n):\n",
    "    dj_circuit.h(qubit) #placing Hadamard gates\n",
    "\n",
    "dj_circuit.x(n)\n",
    "dj_circuit.h(n)\n",
    "\n",
    "dj_circuit += bo #adding balanced oracle\n",
    "\n",
    "for qubit in range(n):\n",
    "    dj_circuit.h(qubit)\n",
    "dj_circuit.barrier()\n",
    "\n",
    "for i in range(n):\n",
    "    dj_circuit.measure(i, i)\n",
    "    \n",
    "dj_circuit.draw()"
   ]
  },
  {
   "cell_type": "code",
   "execution_count": 13,
   "id": "e8df20d0",
   "metadata": {},
   "outputs": [
    {
     "data": {
      "image/png": "[encoded data removed]",
      "text/plain": [
       "<Figure size 700x500 with 1 Axes>"
      ]
     },
     "execution_count": 13,
     "metadata": {},
     "output_type": "execute_result"
    }
   ],
   "source": [
    "#creating simulation plot\n",
    "aer_sim = Aer.get_backend('aer_simulator')\n",
    "qobj = assemble(dj_circuit, aer_sim)\n",
    "results = aer_sim.run(qobj).result()\n",
    "answer = results.get_counts()\n",
    "\n",
    "plot_histogram(answer)"
   ]
  },
  {
   "cell_type": "code",
   "execution_count": null,
   "id": "b52c8de3",
   "metadata": {},
   "outputs": [],
   "source": []
  }
 ],
 "metadata": {
  "kernelspec": {
   "display_name": "Python 3 (ipykernel)",
   "language": "python",
   "name": "python3"
  },
  "language_info": {
   "codemirror_mode": {
    "name": "ipython",
    "version": 3
   },
   "file_extension": ".py",
   "mimetype": "text/x-python",
   "name": "python",
   "nbconvert_exporter": "python",
   "pygments_lexer": "ipython3",
   "version": "3.9.13"
  }
 },
 "nbformat": 4,
 "nbformat_minor": 5
}
